{
 "cells": [
  {
   "cell_type": "code",
   "execution_count": null,
   "metadata": {},
   "outputs": [],
   "source": [
    "import numpy as np\n",
    "import matplotlib.pyplot as plt"
   ]
  },
  {
   "cell_type": "code",
   "execution_count": null,
   "metadata": {},
   "outputs": [],
   "source": [
    "'''A point is in the set if it remains below threshold \n",
    "for a given number of iterations. If this happens, it\n",
    "is represented as 0\n",
    "\n",
    "If a point exceedes the threshold value, we record how \n",
    "many iterations it takes for that to happen\n",
    "'''\n",
    "\n",
    "class Mandelbrot:\n",
    "    def __init__(self):\n",
    "        self.span = 1\n",
    "        self.n = 500\n",
    "        self.real_center = .5\n",
    "        self.imaginary_center = .5\n",
    "\n",
    "    @staticmethod   \n",
    "    def mandelbrot(z0, limit = 100):\n",
    "        z = z0\n",
    "        for t in range(limit):\n",
    "            if abs(z) > 2000:\n",
    "                return t\n",
    "            z = z*z + z0\n",
    "        return 0\n",
    "    \n",
    "    def plot(self):\n",
    "        plt.figure(figsize=(10,10))\n",
    "\n",
    "        real = np.linspace(self.real_center - self.span/2, self.real_center+self.span/2, self.n)\n",
    "        imaginary = np.linspace(self.imaginary_center - self.span/2, self.imaginary_center + self.span/2, self.n)\n",
    "        X = np.array([[complex(r,i) for r in real] for i in imaginary]).flatten()\n",
    "        plt.imshow(np.vectorize(self.mandelbrot)(X).reshape(-1,self.n)[::-1,:]);\n",
    "        \n",
    "    def zoom_in(self):\n",
    "        self.span /= 2\n",
    "        self.plot()\n",
    "    def zoom_out(self):\n",
    "        self.span *= 2\n",
    "        self.plot()\n",
    "    def left(self):\n",
    "        self.real_center += self.span/3\n",
    "        self.plot()\n",
    "    def right(self):\n",
    "        self.real_center -= self.span/3\n",
    "        self.plot()\n",
    "    def up(self):\n",
    "        self.imaginary_center -= self.span/3\n",
    "        self.plot()\n",
    "    def down(self):\n",
    "        self.imaginary_center += self.span/3\n",
    "        self.plot()\n",
    "        \n",
    "m = Mandelbrot()\n",
    "        "
   ]
  },
  {
   "cell_type": "code",
   "execution_count": null,
   "metadata": {},
   "outputs": [],
   "source": [
    "m.plot()"
   ]
  },
  {
   "cell_type": "code",
   "execution_count": null,
   "metadata": {},
   "outputs": [],
   "source": [
    "m.right()"
   ]
  },
  {
   "cell_type": "code",
   "execution_count": null,
   "metadata": {},
   "outputs": [],
   "source": [
    "m.left()"
   ]
  },
  {
   "cell_type": "code",
   "execution_count": null,
   "metadata": {},
   "outputs": [],
   "source": [
    "m.down()"
   ]
  },
  {
   "cell_type": "code",
   "execution_count": null,
   "metadata": {},
   "outputs": [],
   "source": [
    "m.zoom_in()"
   ]
  },
  {
   "cell_type": "code",
   "execution_count": null,
   "metadata": {},
   "outputs": [],
   "source": [
    "m.up()"
   ]
  },
  {
   "cell_type": "code",
   "execution_count": null,
   "metadata": {},
   "outputs": [],
   "source": [
    "m.n = 1000"
   ]
  },
  {
   "cell_type": "code",
   "execution_count": null,
   "metadata": {},
   "outputs": [],
   "source": [
    "m.span"
   ]
  },
  {
   "cell_type": "code",
   "execution_count": null,
   "metadata": {},
   "outputs": [],
   "source": [
    "m.zoom_out()"
   ]
  },
  {
   "cell_type": "code",
   "execution_count": null,
   "metadata": {},
   "outputs": [],
   "source": [
    "m.right()"
   ]
  },
  {
   "cell_type": "code",
   "execution_count": null,
   "metadata": {},
   "outputs": [],
   "source": []
  }
 ],
 "metadata": {
  "kernelspec": {
   "display_name": "Python 3",
   "language": "python",
   "name": "python3"
  },
  "language_info": {
   "codemirror_mode": {
    "name": "ipython",
    "version": 3
   },
   "file_extension": ".py",
   "mimetype": "text/x-python",
   "name": "python",
   "nbconvert_exporter": "python",
   "pygments_lexer": "ipython3",
   "version": "3.7.6"
  }
 },
 "nbformat": 4,
 "nbformat_minor": 4
}
